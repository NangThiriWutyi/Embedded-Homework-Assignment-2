{
  "nbformat": 4,
  "nbformat_minor": 0,
  "metadata": {
    "colab": {
      "provenance": []
    },
    "kernelspec": {
      "name": "python3",
      "display_name": "Python 3"
    },
    "language_info": {
      "name": "python"
    }
  },
  "cells": [
    {
      "cell_type": "code",
      "execution_count": 1,
      "metadata": {
        "colab": {
          "base_uri": "https://localhost:8080/"
        },
        "id": "kR1cAi2mw0bt",
        "outputId": "d7997135-eae5-4159-a208-1ad8f258457d"
      },
      "outputs": [
        {
          "output_type": "stream",
          "name": "stdout",
          "text": [
            "1 * 12\n",
            "2 * 6\n",
            "3 * 4\n",
            "4 * 3\n",
            "6 * 2\n",
            "False\n",
            "1 * 14\n",
            "2 * 7\n",
            "7 * 2\n",
            "False\n",
            "1 * 16\n",
            "2 * 8\n",
            "4 * 4\n",
            "8 * 2\n",
            "False\n",
            "1 * 20\n",
            "2 * 10\n",
            "4 * 5\n",
            "5 * 4\n",
            "10 * 2\n",
            "False\n",
            "1 * 22\n",
            "2 * 11\n",
            "11 * 2\n",
            "False\n",
            "1 * 24\n",
            "2 * 12\n",
            "3 * 8\n",
            "4 * 6\n",
            "6 * 4\n",
            "8 * 3\n",
            "12 * 2\n",
            "False\n"
          ]
        }
      ],
      "source": [
        "def abndnt(n):\n",
        "    def proper_divisors_sum(num):\n",
        "        divisors_sum = 1  # 1 is always a divisor\n",
        "        for i in range(2, int(num**0.5) + 1):\n",
        "            if num % i == 0:\n",
        "                divisors_sum += i\n",
        "                if i != num // i:  # Ensure not to count the same divisor twice for perfect squares\n",
        "                    divisors_sum += num // i\n",
        "        return divisors_sum\n",
        "\n",
        "    divisors_greater_than_n = False\n",
        "\n",
        "    print(f\"{1} * {n}\")\n",
        "    for i in range(2, n):\n",
        "        if n % i == 0:\n",
        "            factor = n // i\n",
        "            print(f\"{i} * {factor}\")\n",
        "            if i + factor > n:\n",
        "                divisors_greater_than_n = True\n",
        "\n",
        "    return divisors_greater_than_n\n",
        "\n",
        "# Test cases\n",
        "print(abndnt(12))  # Output should be True\n",
        "print(abndnt(14))  # Output should be False\n",
        "print(abndnt(16))  # Output should be False\n",
        "print(abndnt(20))  # Output should be True\n",
        "print(abndnt(22))  # Output should be False\n",
        "r = abndnt(24)\n",
        "print(r)  # Output should be True\n",
        "\n"
      ]
    },
    {
      "cell_type": "code",
      "source": [
        "def fancy_prnt(n):\n",
        "    def replace(m):\n",
        "        for i in range(m):\n",
        "            if i % n == 0:\n",
        "                print(\"Buzz!\")\n",
        "            else:\n",
        "                print(i)\n",
        "\n",
        "    return replace\n",
        "\n",
        "# Example usage:\n",
        "replace_func = fancy_prnt(5)\n",
        "replace_func(10)\n"
      ],
      "metadata": {
        "colab": {
          "base_uri": "https://localhost:8080/"
        },
        "id": "PcJKbfHRCGOw",
        "outputId": "2b686638-cd40-424f-c9c4-48a9ebb84671"
      },
      "execution_count": null,
      "outputs": [
        {
          "output_type": "stream",
          "name": "stdout",
          "text": [
            "Buzz!\n",
            "1\n",
            "2\n",
            "3\n",
            "4\n",
            "Buzz!\n",
            "6\n",
            "7\n",
            "8\n",
            "9\n"
          ]
        }
      ]
    },
    {
      "cell_type": "code",
      "source": [
        "def adder(f1, f2):\n",
        "    def result(x):\n",
        "        return f1(x) + f2(x)\n",
        "\n",
        "    return result\n",
        "\n",
        "# Example usage:\n",
        "def identity(n):\n",
        "    return n\n",
        "\n",
        "def square(n):\n",
        "    return n ** 2\n",
        "\n",
        "a1 = adder(identity, square)\n",
        "print(a1(4))  # Output should be 20\n",
        "\n",
        "a2 = adder(a1, identity)\n",
        "print(a2(4))  # Output should be 24\n",
        "print(a2(5))  # Output should be 35\n",
        "\n",
        "a3 = adder(a1, a2)\n",
        "print(a3(4))  # Output should be 44\n"
      ],
      "metadata": {
        "colab": {
          "base_uri": "https://localhost:8080/"
        },
        "id": "2oe2T7F_CjMn",
        "outputId": "5d434bd8-7b55-42b5-f0ae-90d55f782c3d"
      },
      "execution_count": null,
      "outputs": [
        {
          "output_type": "stream",
          "name": "stdout",
          "text": [
            "20\n",
            "24\n",
            "35\n",
            "44\n"
          ]
        }
      ]
    },
    {
      "cell_type": "code",
      "source": [
        "from operator import *\n",
        "\n",
        "def combine_funcs(op):\n",
        "    def combined(f, g):\n",
        "        def val(x):\n",
        "            return op(f(x), g(x))\n",
        "        return val\n",
        "    return combined\n",
        "\n",
        "add_func = combine_funcs(add)\n",
        "h = add_func(abs, neg)#creates a new function h by calling add_func with the abs and neg functions. So, h(x) will be equivalent to add(abs(x), neg(x)).\n",
        "print(h(-5)) # 5+ abs(-5) = 5+5 =10\n"
      ],
      "metadata": {
        "colab": {
          "base_uri": "https://localhost:8080/"
        },
        "id": "L9pQD9WvC1Hu",
        "outputId": "9b627ae4-946c-40d9-daa0-0be508aa4bed"
      },
      "execution_count": 5,
      "outputs": [
        {
          "output_type": "stream",
          "name": "stdout",
          "text": [
            "10\n"
          ]
        }
      ]
    },
    {
      "cell_type": "code",
      "source": [
        "def intscts(f, x):\n",
        "    def g(h):\n",
        "        return f(x) == h(x)\n",
        "    return g\n",
        "\n",
        "# Example usage:\n",
        "def square(n):\n",
        "    return n ** 2\n",
        "\n",
        "def triple(n):\n",
        "    return 3 * n\n",
        "\n",
        "def increment(n):\n",
        "    return n + 1\n",
        "\n",
        "def identity(n):\n",
        "    return n\n",
        "\n",
        "at_three = intscts(square, 3)\n",
        "print(at_three(triple))    # Output should be True\n",
        "print(at_three(increment)) # Output should be False\n",
        "\n",
        "at_one = intscts(identity, 1)\n",
        "print(at_one(square))       # Output should be True\n",
        "print(at_one(triple))       # Output should be False\n"
      ],
      "metadata": {
        "colab": {
          "base_uri": "https://localhost:8080/"
        },
        "id": "m5GBGkNOFTGe",
        "outputId": "dfba6303-3df4-4b89-a681-dfcb8c232b69"
      },
      "execution_count": null,
      "outputs": [
        {
          "output_type": "stream",
          "name": "stdout",
          "text": [
            "True\n",
            "False\n",
            "True\n",
            "False\n"
          ]
        }
      ]
    },
    {
      "cell_type": "code",
      "source": [
        "def f():\n",
        "    return lambda: lambda x: lambda: x\n",
        "\n",
        "# Example usage:\n",
        "result = f()()(3)()\n",
        "print(result)\n"
      ],
      "metadata": {
        "colab": {
          "base_uri": "https://localhost:8080/"
        },
        "id": "WQF91M50FUjt",
        "outputId": "f053026d-43f8-4c08-bfba-ec5136de9846"
      },
      "execution_count": null,
      "outputs": [
        {
          "output_type": "stream",
          "name": "stdout",
          "text": [
            "3\n"
          ]
        }
      ]
    },
    {
      "cell_type": "code",
      "source": [
        "smth = lambda g, dx: lambda x: (g(x - dx) + g(x) + g(x + dx)) / 3\n",
        "\n",
        "# Example usage:\n",
        "square = lambda x: x ** 2\n",
        "result = round(smth(square, 1)(0), 3)\n",
        "print(result)\n"
      ],
      "metadata": {
        "colab": {
          "base_uri": "https://localhost:8080/"
        },
        "id": "EkOOh-ngFiSI",
        "outputId": "ea297a2b-19ee-40e3-a15e-9a8aff196d16"
      },
      "execution_count": null,
      "outputs": [
        {
          "output_type": "stream",
          "name": "stdout",
          "text": [
            "0.667\n"
          ]
        }
      ]
    },
    {
      "cell_type": "code",
      "source": [
        "def cyc(g1, g2, g3):\n",
        "    def apply_functions(x, k):\n",
        "        if k == 0:\n",
        "            return x\n",
        "        elif k % 3 == 1:\n",
        "            return g1(apply_functions(x, k - 1))\n",
        "        elif k % 3 == 2:\n",
        "            return g2(apply_functions(x, k - 1))\n",
        "        else:\n",
        "            return g3(apply_functions(x, k - 1))\n",
        "\n",
        "    def generate_function(n):\n",
        "        return lambda x: apply_functions(x, n)\n",
        "\n",
        "    return generate_function\n",
        "\n",
        "# Example usage:\n",
        "def add_one(x):\n",
        "    return x + 1\n",
        "\n",
        "def times_two(x):\n",
        "    return x * 2\n",
        "\n",
        "def add_three(x):\n",
        "    return x + 3\n",
        "\n",
        "my_cyc = cyc(add_one, times_two, add_three)\n",
        "\n",
        "# Test cases\n",
        "h = my_cyc(0)\n",
        "print(h(5))  # Output should be 5\n",
        "\n",
        "h = my_cyc(2)\n",
        "print(h(1))  # Output should be 4 (times_two(add_one(1)))\n",
        "\n",
        "h = my_cyc(3)\n",
        "print(h(2))  # Output should be 9 (add_three(times_two(add_one(2))))\n",
        "\n",
        "h = my_cyc(4)\n",
        "print(h(2))  # Output should be 10 (add_one(add_three(times_two(add_one(2)))))\n",
        "\n",
        "h = my_cyc(6)\n",
        "print(h(1))  # Output should be 19 (add_three(times_two(add_one(add_three(times_two(add_one(1)))))))\n",
        "\n",
        "\n",
        "\n",
        "\n",
        "\n"
      ],
      "metadata": {
        "colab": {
          "base_uri": "https://localhost:8080/"
        },
        "id": "aAxyEFkHFruP",
        "outputId": "af9bcaf1-94a2-4258-f10c-3a173763a5d4"
      },
      "execution_count": 4,
      "outputs": [
        {
          "output_type": "stream",
          "name": "stdout",
          "text": [
            "5\n",
            "4\n",
            "9\n",
            "10\n",
            "19\n"
          ]
        }
      ]
    }
  ]
}